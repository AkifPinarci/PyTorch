{
 "cells": [
  {
   "cell_type": "code",
   "execution_count": 1,
   "metadata": {},
   "outputs": [],
   "source": [
    "import torch\n",
    "import torch.nn as nn\n",
    "from pathlib import Path\n",
    "import spacy\n",
    "from torch.nn.utils.rnn import pad_sequence\n",
    "import torch.optim as optim\n",
    "import torchvision.transforms as transforms\n",
    "import torchvision\n",
    "from pathlib import Path\n",
    "import os\n",
    "import pandas as pd\n",
    "from PIL import Image\n",
    "from torch.utils.data import (\n",
    "    Dataset,\n",
    "    DataLoader,\n",
    ")\n",
    "spacy_eng = spacy.load(\"en_core_web_sm\")"
   ]
  },
  {
   "cell_type": "code",
   "execution_count": 2,
   "metadata": {},
   "outputs": [],
   "source": [
    "class MyCollate:\n",
    "    def __init__(self, pad_idx):\n",
    "        print(\"Collate initialization\")\n",
    "        self.pad_idx = pad_idx\n",
    "\n",
    "    def __call__(self, batch):\n",
    "        print(\"Collate call\")\n",
    "        imgs = [item[0].unsqueeze(0) for item in batch]\n",
    "        imgs = torch.cat(imgs, dim = 0)\n",
    "\n",
    "        labels = [item[1] for item in batch]\n",
    "        labels = pad_sequence(labels, batch_first=False, padding_value=self.pad_idx)\n",
    "\n",
    "        return imgs, labels"
   ]
  },
  {
   "cell_type": "code",
   "execution_count": 3,
   "metadata": {},
   "outputs": [],
   "source": [
    "class Vocabulary:\n",
    "    def __init__(self, frequence_treshold):\n",
    "        print(\"VVocab Init\")\n",
    "        self.itos = {0:\"<PAD>\", 1:\"<SOS>\", 2:\"<EOS>\", 3:\"<UNK>\"}\n",
    "        self.stoi = {\"<PAD>\":0, \"<SOS>\":1, \"<EOS>\":2, \"<UNK>\":3}\n",
    "        self.freq_threshold = frequence_treshold\n",
    "\n",
    "    def __len__(self):\n",
    "        print(\"Get len vocab\")\n",
    "        return len(self.itos)\n",
    "    \n",
    "    @staticmethod\n",
    "    def tokenizer_eng(text):\n",
    "        return [tok.text.lower() for tok in spacy_eng.tokenizer(text)]\n",
    "    \n",
    "    def build_vocabulary(self, sentence_list):\n",
    "        print(\"Vocab build\")\n",
    "        idx = 4\n",
    "        frequencies = {}\n",
    "        for sentence in sentence_list:\n",
    "            for word in self.tokenizer_eng(sentence):\n",
    "                if word not in frequencies:\n",
    "                    frequencies[word] = 1\n",
    "                else:\n",
    "                    frequencies[word] += 1\n",
    "\n",
    "                if frequencies[word] == self.freq_threshold:\n",
    "                    self.stoi[word] = idx\n",
    "                    self.itos[idx] = word\n",
    "                    idx += 1\n",
    "\n",
    "    def numericalize(self, text):\n",
    "        tokenized_text = self.tokenizer_eng(text)\n",
    "        return [self.stoi[token] if token in self.stoi else self.stoi[\"UNK\"] for token in tokenized_text]"
   ]
  },
  {
   "cell_type": "code",
   "execution_count": 4,
   "metadata": {},
   "outputs": [],
   "source": [
    "class FlickrDataset(Dataset):\n",
    "    def __init__(self, root, captionsFile, transform = None, frequency_treshold = 5):\n",
    "        print(\"Dataset initialized\")\n",
    "        self.root = root\n",
    "        self.df = pd.read_csv(captionsFile)\n",
    "        self.transform = transform\n",
    "\n",
    "        self.images = self.df[\"image\"]\n",
    "        self.captions = self.df[\"caption\"]\n",
    "\n",
    "        self.vocab = Vocabulary(frequency_treshold)\n",
    "        self.vocab.build_vocabulary(self.captions.tolist())\n",
    "\n",
    "    def __len__(self):\n",
    "        print(\"Get len dataset\")\n",
    "        return len(self.df)\n",
    "    \n",
    "    def __getitem__(self, index):\n",
    "        print(\"Get item dataset\")\n",
    "        caption = self.captions[index]\n",
    "        image_id = self.images[index]\n",
    "        img = Image.open(os.path.join(self.root, image_id)).convert(\"RGB\")\n",
    "\n",
    "        if self.transform is not None:\n",
    "            img = self.transform(img)\n",
    "\n",
    "        numericCaption = [self.vocab.stoi[\"<SOS>\"]]\n",
    "        numericCaption += self.vocab.numericalize(caption)\n",
    "        numericCaption.append(self.vocab.stoi[\"<EOS>\"])\n",
    "        print(\"Working on\")\n",
    "        return img, torch.tensor(numericCaption)"
   ]
  },
  {
   "cell_type": "code",
   "execution_count": 5,
   "metadata": {},
   "outputs": [],
   "source": [
    "def get_loader(root, annotation, transform, batch_size = 32, num_workers = 1, shuffle = False, pin_memory = True):\n",
    "    print(\"Get loader\")\n",
    "    dataset = FlickrDataset(root, annotation, transform=transform)\n",
    "    pad_idx = dataset.vocab.stoi['<PAD>']\n",
    "\n",
    "    loader = DataLoader(dataset=dataset, batch_size=batch_size, num_workers=num_workers, shuffle=shuffle, pin_memory=pin_memory, collate_fn=MyCollate(pad_idx=pad_idx))\n",
    "    \n",
    "    return loader"
   ]
  },
  {
   "cell_type": "code",
   "execution_count": 6,
   "metadata": {},
   "outputs": [
    {
     "name": "stdout",
     "output_type": "stream",
     "text": [
      "Get loader\n",
      "Dataset initialized\n",
      "VVocab Init\n",
      "Vocab build\n",
      "Collate initialization\n"
     ]
    }
   ],
   "source": [
    "dataloader = get_loader(\"../../../data/flickr8k/Images/\", \"../../../data/flickr8k/captions.txt\", transform = transforms.ToTensor())\n",
    "\n",
    "for idx, (img, captions) in enumerate(dataloader):\n",
    "    print(img.shape)\n",
    "    print(captions.shape)\n",
    "    "
   ]
  }
 ],
 "metadata": {
  "kernelspec": {
   "display_name": "torch",
   "language": "python",
   "name": "python3"
  },
  "language_info": {
   "codemirror_mode": {
    "name": "ipython",
    "version": 3
   },
   "file_extension": ".py",
   "mimetype": "text/x-python",
   "name": "python",
   "nbconvert_exporter": "python",
   "pygments_lexer": "ipython3",
   "version": "3.9.19"
  }
 },
 "nbformat": 4,
 "nbformat_minor": 2
}
